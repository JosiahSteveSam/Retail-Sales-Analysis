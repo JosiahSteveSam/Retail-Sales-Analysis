{
 "cells": [
  {
   "cell_type": "markdown",
   "id": "837b11b2",
   "metadata": {},
   "source": [
    "## Retail Sales Analysis"
   ]
  },
  {
   "cell_type": "code",
   "execution_count": 104,
   "id": "cc3295d3",
   "metadata": {},
   "outputs": [],
   "source": [
    "import numpy as np\n",
    "import pandas as pd\n",
    "import matplotlib.pyplot as plt\n",
    "%matplotlib inline"
   ]
  },
  {
   "cell_type": "code",
   "execution_count": 105,
   "id": "8fc22693",
   "metadata": {},
   "outputs": [
    {
     "data": {
      "text/html": [
       "<div>\n",
       "<style scoped>\n",
       "    .dataframe tbody tr th:only-of-type {\n",
       "        vertical-align: middle;\n",
       "    }\n",
       "\n",
       "    .dataframe tbody tr th {\n",
       "        vertical-align: top;\n",
       "    }\n",
       "\n",
       "    .dataframe thead th {\n",
       "        text-align: right;\n",
       "    }\n",
       "</style>\n",
       "<table border=\"1\" class=\"dataframe\">\n",
       "  <thead>\n",
       "    <tr style=\"text-align: right;\">\n",
       "      <th></th>\n",
       "      <th>InvoiceNo</th>\n",
       "      <th>StockCode</th>\n",
       "      <th>Description</th>\n",
       "      <th>Quantity</th>\n",
       "      <th>InvoiceDate</th>\n",
       "      <th>UnitPrice</th>\n",
       "      <th>CustomerID</th>\n",
       "      <th>Country</th>\n",
       "    </tr>\n",
       "  </thead>\n",
       "  <tbody>\n",
       "    <tr>\n",
       "      <th>0</th>\n",
       "      <td>536365</td>\n",
       "      <td>85123A</td>\n",
       "      <td>WHITE HANGING HEART T-LIGHT HOLDER</td>\n",
       "      <td>6</td>\n",
       "      <td>01-12-2010 08:26</td>\n",
       "      <td>2.55</td>\n",
       "      <td>17850.0</td>\n",
       "      <td>United Kingdom</td>\n",
       "    </tr>\n",
       "    <tr>\n",
       "      <th>1</th>\n",
       "      <td>536365</td>\n",
       "      <td>71053</td>\n",
       "      <td>WHITE METAL LANTERN</td>\n",
       "      <td>6</td>\n",
       "      <td>01-12-2010 08:26</td>\n",
       "      <td>3.39</td>\n",
       "      <td>17850.0</td>\n",
       "      <td>United Kingdom</td>\n",
       "    </tr>\n",
       "    <tr>\n",
       "      <th>2</th>\n",
       "      <td>536365</td>\n",
       "      <td>84406B</td>\n",
       "      <td>CREAM CUPID HEARTS COAT HANGER</td>\n",
       "      <td>8</td>\n",
       "      <td>01-12-2010 08:26</td>\n",
       "      <td>2.75</td>\n",
       "      <td>17850.0</td>\n",
       "      <td>United Kingdom</td>\n",
       "    </tr>\n",
       "    <tr>\n",
       "      <th>3</th>\n",
       "      <td>536365</td>\n",
       "      <td>84029G</td>\n",
       "      <td>KNITTED UNION FLAG HOT WATER BOTTLE</td>\n",
       "      <td>6</td>\n",
       "      <td>01-12-2010 08:26</td>\n",
       "      <td>3.39</td>\n",
       "      <td>17850.0</td>\n",
       "      <td>United Kingdom</td>\n",
       "    </tr>\n",
       "    <tr>\n",
       "      <th>4</th>\n",
       "      <td>536365</td>\n",
       "      <td>84029E</td>\n",
       "      <td>RED WOOLLY HOTTIE WHITE HEART.</td>\n",
       "      <td>6</td>\n",
       "      <td>01-12-2010 08:26</td>\n",
       "      <td>3.39</td>\n",
       "      <td>17850.0</td>\n",
       "      <td>United Kingdom</td>\n",
       "    </tr>\n",
       "    <tr>\n",
       "      <th>5</th>\n",
       "      <td>536365</td>\n",
       "      <td>22752</td>\n",
       "      <td>SET 7 BABUSHKA NESTING BOXES</td>\n",
       "      <td>2</td>\n",
       "      <td>01-12-2010 08:26</td>\n",
       "      <td>7.65</td>\n",
       "      <td>17850.0</td>\n",
       "      <td>United Kingdom</td>\n",
       "    </tr>\n",
       "    <tr>\n",
       "      <th>6</th>\n",
       "      <td>536365</td>\n",
       "      <td>21730</td>\n",
       "      <td>GLASS STAR FROSTED T-LIGHT HOLDER</td>\n",
       "      <td>6</td>\n",
       "      <td>01-12-2010 08:26</td>\n",
       "      <td>4.25</td>\n",
       "      <td>17850.0</td>\n",
       "      <td>United Kingdom</td>\n",
       "    </tr>\n",
       "    <tr>\n",
       "      <th>7</th>\n",
       "      <td>536366</td>\n",
       "      <td>22633</td>\n",
       "      <td>HAND WARMER UNION JACK</td>\n",
       "      <td>6</td>\n",
       "      <td>01-12-2010 08:28</td>\n",
       "      <td>1.85</td>\n",
       "      <td>17850.0</td>\n",
       "      <td>United Kingdom</td>\n",
       "    </tr>\n",
       "    <tr>\n",
       "      <th>8</th>\n",
       "      <td>536366</td>\n",
       "      <td>22632</td>\n",
       "      <td>HAND WARMER RED POLKA DOT</td>\n",
       "      <td>6</td>\n",
       "      <td>01-12-2010 08:28</td>\n",
       "      <td>1.85</td>\n",
       "      <td>17850.0</td>\n",
       "      <td>United Kingdom</td>\n",
       "    </tr>\n",
       "    <tr>\n",
       "      <th>9</th>\n",
       "      <td>536367</td>\n",
       "      <td>84879</td>\n",
       "      <td>ASSORTED COLOUR BIRD ORNAMENT</td>\n",
       "      <td>32</td>\n",
       "      <td>01-12-2010 08:34</td>\n",
       "      <td>1.69</td>\n",
       "      <td>13047.0</td>\n",
       "      <td>United Kingdom</td>\n",
       "    </tr>\n",
       "  </tbody>\n",
       "</table>\n",
       "</div>"
      ],
      "text/plain": [
       "  InvoiceNo StockCode                          Description  Quantity  \\\n",
       "0    536365    85123A   WHITE HANGING HEART T-LIGHT HOLDER         6   \n",
       "1    536365     71053                  WHITE METAL LANTERN         6   \n",
       "2    536365    84406B       CREAM CUPID HEARTS COAT HANGER         8   \n",
       "3    536365    84029G  KNITTED UNION FLAG HOT WATER BOTTLE         6   \n",
       "4    536365    84029E       RED WOOLLY HOTTIE WHITE HEART.         6   \n",
       "5    536365     22752         SET 7 BABUSHKA NESTING BOXES         2   \n",
       "6    536365     21730    GLASS STAR FROSTED T-LIGHT HOLDER         6   \n",
       "7    536366     22633               HAND WARMER UNION JACK         6   \n",
       "8    536366     22632            HAND WARMER RED POLKA DOT         6   \n",
       "9    536367     84879        ASSORTED COLOUR BIRD ORNAMENT        32   \n",
       "\n",
       "        InvoiceDate  UnitPrice  CustomerID         Country  \n",
       "0  01-12-2010 08:26       2.55     17850.0  United Kingdom  \n",
       "1  01-12-2010 08:26       3.39     17850.0  United Kingdom  \n",
       "2  01-12-2010 08:26       2.75     17850.0  United Kingdom  \n",
       "3  01-12-2010 08:26       3.39     17850.0  United Kingdom  \n",
       "4  01-12-2010 08:26       3.39     17850.0  United Kingdom  \n",
       "5  01-12-2010 08:26       7.65     17850.0  United Kingdom  \n",
       "6  01-12-2010 08:26       4.25     17850.0  United Kingdom  \n",
       "7  01-12-2010 08:28       1.85     17850.0  United Kingdom  \n",
       "8  01-12-2010 08:28       1.85     17850.0  United Kingdom  \n",
       "9  01-12-2010 08:34       1.69     13047.0  United Kingdom  "
      ]
     },
     "execution_count": 105,
     "metadata": {},
     "output_type": "execute_result"
    }
   ],
   "source": [
    "df = pd.read_csv(\"D://Data set//online+retail//Online Retail.csv\",encoding='ISO-8859-1')\n",
    "df.head(10)"
   ]
  },
  {
   "cell_type": "code",
   "execution_count": 106,
   "id": "d11fce3a",
   "metadata": {},
   "outputs": [],
   "source": [
    "import seaborn as sns\n",
    "sns.set()"
   ]
  },
  {
   "cell_type": "code",
   "execution_count": 107,
   "id": "831bfe47",
   "metadata": {},
   "outputs": [
    {
     "data": {
      "text/plain": [
       "Index(['InvoiceNo', 'StockCode', 'Description', 'Quantity', 'InvoiceDate',\n",
       "       'UnitPrice', 'CustomerID', 'Country'],\n",
       "      dtype='object')"
      ]
     },
     "execution_count": 107,
     "metadata": {},
     "output_type": "execute_result"
    }
   ],
   "source": [
    "df.columns"
   ]
  },
  {
   "cell_type": "code",
   "execution_count": 108,
   "id": "90761b7e",
   "metadata": {},
   "outputs": [
    {
     "data": {
      "text/plain": [
       "(541909, 8)"
      ]
     },
     "execution_count": 108,
     "metadata": {},
     "output_type": "execute_result"
    }
   ],
   "source": [
    "df.shape"
   ]
  },
  {
   "cell_type": "code",
   "execution_count": 109,
   "id": "45602e17",
   "metadata": {},
   "outputs": [
    {
     "data": {
      "text/html": [
       "<div>\n",
       "<style scoped>\n",
       "    .dataframe tbody tr th:only-of-type {\n",
       "        vertical-align: middle;\n",
       "    }\n",
       "\n",
       "    .dataframe tbody tr th {\n",
       "        vertical-align: top;\n",
       "    }\n",
       "\n",
       "    .dataframe thead th {\n",
       "        text-align: right;\n",
       "    }\n",
       "</style>\n",
       "<table border=\"1\" class=\"dataframe\">\n",
       "  <thead>\n",
       "    <tr style=\"text-align: right;\">\n",
       "      <th></th>\n",
       "      <th>InvoiceNo</th>\n",
       "      <th>StockCode</th>\n",
       "      <th>Description</th>\n",
       "      <th>Quantity</th>\n",
       "      <th>InvoiceDate</th>\n",
       "      <th>UnitPrice</th>\n",
       "      <th>CustomerID</th>\n",
       "      <th>Country</th>\n",
       "    </tr>\n",
       "  </thead>\n",
       "  <tbody>\n",
       "    <tr>\n",
       "      <th>62526</th>\n",
       "      <td>541506</td>\n",
       "      <td>22121</td>\n",
       "      <td>NOEL WOODEN BLOCK LETTERS</td>\n",
       "      <td>1</td>\n",
       "      <td>18-01-2011 16:05</td>\n",
       "      <td>11.63</td>\n",
       "      <td>NaN</td>\n",
       "      <td>United Kingdom</td>\n",
       "    </tr>\n",
       "    <tr>\n",
       "      <th>537543</th>\n",
       "      <td>581310</td>\n",
       "      <td>22739</td>\n",
       "      <td>RIBBON REEL CHRISTMAS SOCK BAUBLE</td>\n",
       "      <td>5</td>\n",
       "      <td>08-12-2011 11:43</td>\n",
       "      <td>1.65</td>\n",
       "      <td>16442.0</td>\n",
       "      <td>United Kingdom</td>\n",
       "    </tr>\n",
       "    <tr>\n",
       "      <th>500526</th>\n",
       "      <td>578783</td>\n",
       "      <td>22230</td>\n",
       "      <td>JIGSAW TREE WITH WATERING CAN</td>\n",
       "      <td>2</td>\n",
       "      <td>25-11-2011 11:58</td>\n",
       "      <td>0.29</td>\n",
       "      <td>12748.0</td>\n",
       "      <td>United Kingdom</td>\n",
       "    </tr>\n",
       "    <tr>\n",
       "      <th>402817</th>\n",
       "      <td>571508</td>\n",
       "      <td>23160</td>\n",
       "      <td>REGENCY TEA SPOON</td>\n",
       "      <td>3</td>\n",
       "      <td>17-10-2011 15:27</td>\n",
       "      <td>2.46</td>\n",
       "      <td>NaN</td>\n",
       "      <td>United Kingdom</td>\n",
       "    </tr>\n",
       "    <tr>\n",
       "      <th>296639</th>\n",
       "      <td>562928</td>\n",
       "      <td>21881</td>\n",
       "      <td>CUTE CATS TAPE</td>\n",
       "      <td>12</td>\n",
       "      <td>10-08-2011 15:29</td>\n",
       "      <td>0.65</td>\n",
       "      <td>15494.0</td>\n",
       "      <td>United Kingdom</td>\n",
       "    </tr>\n",
       "    <tr>\n",
       "      <th>103108</th>\n",
       "      <td>545053</td>\n",
       "      <td>20727</td>\n",
       "      <td>LUNCH BAG  BLACK SKULL.</td>\n",
       "      <td>2</td>\n",
       "      <td>27-02-2011 12:41</td>\n",
       "      <td>1.65</td>\n",
       "      <td>17516.0</td>\n",
       "      <td>United Kingdom</td>\n",
       "    </tr>\n",
       "    <tr>\n",
       "      <th>212352</th>\n",
       "      <td>555473</td>\n",
       "      <td>20725</td>\n",
       "      <td>LUNCH BAG RED RETROSPOT</td>\n",
       "      <td>10</td>\n",
       "      <td>03-06-2011 11:59</td>\n",
       "      <td>1.65</td>\n",
       "      <td>14700.0</td>\n",
       "      <td>United Kingdom</td>\n",
       "    </tr>\n",
       "    <tr>\n",
       "      <th>362837</th>\n",
       "      <td>568526</td>\n",
       "      <td>85152</td>\n",
       "      <td>HAND OVER THE CHOCOLATE   SIGN</td>\n",
       "      <td>24</td>\n",
       "      <td>27-09-2011 13:04</td>\n",
       "      <td>2.10</td>\n",
       "      <td>17656.0</td>\n",
       "      <td>United Kingdom</td>\n",
       "    </tr>\n",
       "    <tr>\n",
       "      <th>129866</th>\n",
       "      <td>547396</td>\n",
       "      <td>21243</td>\n",
       "      <td>PINK  POLKADOT PLATE</td>\n",
       "      <td>1</td>\n",
       "      <td>22-03-2011 16:54</td>\n",
       "      <td>3.29</td>\n",
       "      <td>NaN</td>\n",
       "      <td>United Kingdom</td>\n",
       "    </tr>\n",
       "    <tr>\n",
       "      <th>505021</th>\n",
       "      <td>578998</td>\n",
       "      <td>22093</td>\n",
       "      <td>MOTORING TISSUE BOX</td>\n",
       "      <td>2</td>\n",
       "      <td>27-11-2011 16:05</td>\n",
       "      <td>0.39</td>\n",
       "      <td>15436.0</td>\n",
       "      <td>United Kingdom</td>\n",
       "    </tr>\n",
       "  </tbody>\n",
       "</table>\n",
       "</div>"
      ],
      "text/plain": [
       "       InvoiceNo StockCode                        Description  Quantity  \\\n",
       "62526     541506     22121         NOEL WOODEN BLOCK LETTERS          1   \n",
       "537543    581310     22739  RIBBON REEL CHRISTMAS SOCK BAUBLE         5   \n",
       "500526    578783     22230      JIGSAW TREE WITH WATERING CAN         2   \n",
       "402817    571508     23160                  REGENCY TEA SPOON         3   \n",
       "296639    562928     21881                     CUTE CATS TAPE        12   \n",
       "103108    545053     20727            LUNCH BAG  BLACK SKULL.         2   \n",
       "212352    555473     20725            LUNCH BAG RED RETROSPOT        10   \n",
       "362837    568526     85152    HAND OVER THE CHOCOLATE   SIGN         24   \n",
       "129866    547396     21243              PINK  POLKADOT PLATE          1   \n",
       "505021    578998     22093                MOTORING TISSUE BOX         2   \n",
       "\n",
       "             InvoiceDate  UnitPrice  CustomerID         Country  \n",
       "62526   18-01-2011 16:05      11.63         NaN  United Kingdom  \n",
       "537543  08-12-2011 11:43       1.65     16442.0  United Kingdom  \n",
       "500526  25-11-2011 11:58       0.29     12748.0  United Kingdom  \n",
       "402817  17-10-2011 15:27       2.46         NaN  United Kingdom  \n",
       "296639  10-08-2011 15:29       0.65     15494.0  United Kingdom  \n",
       "103108  27-02-2011 12:41       1.65     17516.0  United Kingdom  \n",
       "212352  03-06-2011 11:59       1.65     14700.0  United Kingdom  \n",
       "362837  27-09-2011 13:04       2.10     17656.0  United Kingdom  \n",
       "129866  22-03-2011 16:54       3.29         NaN  United Kingdom  \n",
       "505021  27-11-2011 16:05       0.39     15436.0  United Kingdom  "
      ]
     },
     "execution_count": 109,
     "metadata": {},
     "output_type": "execute_result"
    }
   ],
   "source": [
    "df.sample(10)"
   ]
  },
  {
   "cell_type": "code",
   "execution_count": 110,
   "id": "45adca37",
   "metadata": {},
   "outputs": [
    {
     "data": {
      "text/plain": [
       "InvoiceNo           0\n",
       "StockCode           0\n",
       "Description      1454\n",
       "Quantity            0\n",
       "InvoiceDate         0\n",
       "UnitPrice           0\n",
       "CustomerID     135080\n",
       "Country             0\n",
       "dtype: int64"
      ]
     },
     "execution_count": 110,
     "metadata": {},
     "output_type": "execute_result"
    }
   ],
   "source": [
    "df.isnull().sum()"
   ]
  },
  {
   "cell_type": "markdown",
   "id": "868567ba",
   "metadata": {},
   "source": [
    "We have missing values in DESCRIPTION and CUSTOMER ID column"
   ]
  },
  {
   "cell_type": "code",
   "execution_count": 111,
   "id": "7a50bf28",
   "metadata": {},
   "outputs": [
    {
     "name": "stdout",
     "output_type": "stream",
     "text": [
      "<class 'pandas.core.frame.DataFrame'>\n",
      "RangeIndex: 541909 entries, 0 to 541908\n",
      "Data columns (total 8 columns):\n",
      " #   Column       Non-Null Count   Dtype  \n",
      "---  ------       --------------   -----  \n",
      " 0   InvoiceNo    541909 non-null  object \n",
      " 1   StockCode    541909 non-null  object \n",
      " 2   Description  540455 non-null  object \n",
      " 3   Quantity     541909 non-null  int64  \n",
      " 4   InvoiceDate  541909 non-null  object \n",
      " 5   UnitPrice    541909 non-null  float64\n",
      " 6   CustomerID   406829 non-null  float64\n",
      " 7   Country      541909 non-null  object \n",
      "dtypes: float64(2), int64(1), object(5)\n",
      "memory usage: 33.1+ MB\n"
     ]
    }
   ],
   "source": [
    "df.info()"
   ]
  },
  {
   "cell_type": "code",
   "execution_count": 113,
   "id": "9ce6e592",
   "metadata": {},
   "outputs": [
    {
     "data": {
      "text/html": [
       "<div>\n",
       "<style scoped>\n",
       "    .dataframe tbody tr th:only-of-type {\n",
       "        vertical-align: middle;\n",
       "    }\n",
       "\n",
       "    .dataframe tbody tr th {\n",
       "        vertical-align: top;\n",
       "    }\n",
       "\n",
       "    .dataframe thead th {\n",
       "        text-align: right;\n",
       "    }\n",
       "</style>\n",
       "<table border=\"1\" class=\"dataframe\">\n",
       "  <thead>\n",
       "    <tr style=\"text-align: right;\">\n",
       "      <th></th>\n",
       "      <th>Quantity</th>\n",
       "      <th>UnitPrice</th>\n",
       "    </tr>\n",
       "  </thead>\n",
       "  <tbody>\n",
       "    <tr>\n",
       "      <th>count</th>\n",
       "      <td>541909.000000</td>\n",
       "      <td>541909.000000</td>\n",
       "    </tr>\n",
       "    <tr>\n",
       "      <th>mean</th>\n",
       "      <td>9.552250</td>\n",
       "      <td>4.611114</td>\n",
       "    </tr>\n",
       "    <tr>\n",
       "      <th>std</th>\n",
       "      <td>218.081158</td>\n",
       "      <td>96.759853</td>\n",
       "    </tr>\n",
       "    <tr>\n",
       "      <th>min</th>\n",
       "      <td>-80995.000000</td>\n",
       "      <td>-11062.060000</td>\n",
       "    </tr>\n",
       "    <tr>\n",
       "      <th>25%</th>\n",
       "      <td>1.000000</td>\n",
       "      <td>1.250000</td>\n",
       "    </tr>\n",
       "    <tr>\n",
       "      <th>50%</th>\n",
       "      <td>3.000000</td>\n",
       "      <td>2.080000</td>\n",
       "    </tr>\n",
       "    <tr>\n",
       "      <th>75%</th>\n",
       "      <td>10.000000</td>\n",
       "      <td>4.130000</td>\n",
       "    </tr>\n",
       "    <tr>\n",
       "      <th>max</th>\n",
       "      <td>80995.000000</td>\n",
       "      <td>38970.000000</td>\n",
       "    </tr>\n",
       "  </tbody>\n",
       "</table>\n",
       "</div>"
      ],
      "text/plain": [
       "            Quantity      UnitPrice\n",
       "count  541909.000000  541909.000000\n",
       "mean        9.552250       4.611114\n",
       "std       218.081158      96.759853\n",
       "min    -80995.000000  -11062.060000\n",
       "25%         1.000000       1.250000\n",
       "50%         3.000000       2.080000\n",
       "75%        10.000000       4.130000\n",
       "max     80995.000000   38970.000000"
      ]
     },
     "execution_count": 113,
     "metadata": {},
     "output_type": "execute_result"
    }
   ],
   "source": [
    "df[['Quantity','UnitPrice']].describe()"
   ]
  },
  {
   "cell_type": "markdown",
   "id": "5ab03fb6",
   "metadata": {},
   "source": [
    "We can see Quantity and Price has some negative values which is irrelevant."
   ]
  },
  {
   "cell_type": "code",
   "execution_count": 114,
   "id": "239758a9",
   "metadata": {},
   "outputs": [
    {
     "data": {
      "text/plain": [
       "38"
      ]
     },
     "execution_count": 114,
     "metadata": {},
     "output_type": "execute_result"
    }
   ],
   "source": [
    "df[\"Country\"].nunique()"
   ]
  },
  {
   "cell_type": "code",
   "execution_count": 115,
   "id": "c3cf0747",
   "metadata": {},
   "outputs": [
    {
     "data": {
      "text/plain": [
       "array(['United Kingdom', 'France', 'Australia', 'Netherlands', 'Germany',\n",
       "       'Norway', 'EIRE', 'Switzerland', 'Spain', 'Poland', 'Portugal',\n",
       "       'Italy', 'Belgium', 'Lithuania', 'Japan', 'Iceland',\n",
       "       'Channel Islands', 'Denmark', 'Cyprus', 'Sweden', 'Austria',\n",
       "       'Israel', 'Finland', 'Bahrain', 'Greece', 'Hong Kong', 'Singapore',\n",
       "       'Lebanon', 'United Arab Emirates', 'Saudi Arabia',\n",
       "       'Czech Republic', 'Canada', 'Unspecified', 'Brazil', 'USA',\n",
       "       'European Community', 'Malta', 'RSA'], dtype=object)"
      ]
     },
     "execution_count": 115,
     "metadata": {},
     "output_type": "execute_result"
    }
   ],
   "source": [
    "df[\"Country\"].unique()"
   ]
  },
  {
   "cell_type": "markdown",
   "id": "3097a16c",
   "metadata": {},
   "source": [
    "We have customers from 38 different countries across the world."
   ]
  },
  {
   "cell_type": "code",
   "execution_count": 116,
   "id": "244464c9",
   "metadata": {},
   "outputs": [
    {
     "data": {
      "text/plain": [
       "United Kingdom    91.431956\n",
       "Germany            1.752139\n",
       "France             1.579047\n",
       "EIRE               1.512431\n",
       "Spain              0.467422\n",
       "Netherlands        0.437527\n",
       "Belgium            0.381798\n",
       "Switzerland        0.369435\n",
       "Portugal           0.280305\n",
       "Australia          0.232327\n",
       "Name: Country, dtype: float64"
      ]
     },
     "execution_count": 116,
     "metadata": {},
     "output_type": "execute_result"
    }
   ],
   "source": [
    "df[\"Country\"].value_counts(normalize=True).head(10)*100"
   ]
  },
  {
   "cell_type": "markdown",
   "id": "a39df5a3",
   "metadata": {},
   "source": [
    "We got customers of 91% from UK and majorly from across Europe."
   ]
  },
  {
   "cell_type": "code",
   "execution_count": 124,
   "id": "81cb13ac",
   "metadata": {},
   "outputs": [],
   "source": [
    "from datetime import datetime"
   ]
  },
  {
   "cell_type": "code",
   "execution_count": 125,
   "id": "e436f0c8",
   "metadata": {},
   "outputs": [],
   "source": [
    "df['InvoiceDate'] = pd.to_datetime(df['InvoiceDate'])"
   ]
  },
  {
   "cell_type": "code",
   "execution_count": 119,
   "id": "d9cf1d7a",
   "metadata": {},
   "outputs": [
    {
     "name": "stdout",
     "output_type": "stream",
     "text": [
      "Transactions are registered from 2010-01-12 08:26:00 to 2011-12-10 17:19:00\n"
     ]
    }
   ],
   "source": [
    "print(f\"Transactions are registered from {df['InvoiceDate'].min()} to {df['InvoiceDate'].max()}\")"
   ]
  },
  {
   "cell_type": "markdown",
   "id": "258e018d",
   "metadata": {},
   "source": [
    "We have data from January 2010 to October 2011 "
   ]
  },
  {
   "cell_type": "code",
   "execution_count": 120,
   "id": "675d3a22",
   "metadata": {},
   "outputs": [
    {
     "name": "stdout",
     "output_type": "stream",
     "text": [
      "No. of total Transactions are 25900\n"
     ]
    }
   ],
   "source": [
    "print(f\"No. of total Transactions are {df['InvoiceNo'].nunique()}\")"
   ]
  },
  {
   "cell_type": "markdown",
   "id": "0b13bfb7",
   "metadata": {},
   "source": [
    "#### Data Visualization"
   ]
  },
  {
   "cell_type": "code",
   "execution_count": 122,
   "id": "5966562b",
   "metadata": {},
   "outputs": [
    {
     "data": {
      "text/plain": [
       "<Axes: xlabel='Country', ylabel='count'>"
      ]
     },
     "execution_count": 122,
     "metadata": {},
     "output_type": "execute_result"
    },
    {
     "data": {
      "image/png": "[encoded data removed]",
      "text/plain": [
       "<Figure size 1500x800 with 1 Axes>"
      ]
     },
     "metadata": {},
     "output_type": "display_data"
    }
   ],
   "source": [
    "sns.set_style(\"whitegrid\")\n",
    "plt.figure(figsize = (15,8))\n",
    "plt.xticks(rotation=65,size=10)\n",
    "sns.countplot(x='Country',data=df)"
   ]
  },
  {
   "cell_type": "code",
   "execution_count": 131,
   "id": "a72d4466",
   "metadata": {},
   "outputs": [
    {
     "data": {
      "image/png": "[encoded data removed]",
      "text/plain": [
       "<Figure size 1000x500 with 1 Axes>"
      ]
     },
     "metadata": {},
     "output_type": "display_data"
    }
   ],
   "source": [
    "import datetime as dt\n",
    "df['month']=df['InvoiceDate'].dt.month\n",
    "df['year']=df['InvoiceDate'].dt.year\n",
    "df['month_year']=pd.to_datetime(df[['year', 'month']].assign(Day=1))\n",
    "df['TotalPrice']=df['Quantity']*df['UnitPrice']\n",
    "\n",
    "\n",
    "sns.set_theme(style='whitegrid')\n",
    "plt.figure(figsize=(10,5))\n",
    "plot = pd.DataFrame(df.groupby(['month_year'])['InvoiceNo'].count()).reset_index()\n",
    "ax= sns.lineplot(x=\"month_year\",y =\"InvoiceNo\",data=plot )"
   ]
  },
  {
   "cell_type": "markdown",
   "id": "75881477",
   "metadata": {},
   "source": [
    "As we see the sales increases from october 2010 "
   ]
  },
  {
   "cell_type": "code",
   "execution_count": 135,
   "id": "418b0dd0",
   "metadata": {},
   "outputs": [
    {
     "data": {
      "image/png": "[encoded data removed]",
      "text/plain": [
       "<Figure size 1000x500 with 1 Axes>"
      ]
     },
     "metadata": {},
     "output_type": "display_data"
    }
   ],
   "source": [
    "data2 = pd.DataFrame(df.groupby(['month_year'])['TotalPrice'].sum()).reset_index()\n",
    "plt.figure(figsize=(10,5))\n",
    "ax=sns.lineplot(x='month_year',y='TotalPrice',data=data2)"
   ]
  },
  {
   "cell_type": "markdown",
   "id": "2eb6bf48",
   "metadata": {},
   "source": [
    "This graph shows that the revenue increases from november 2010 "
   ]
  },
  {
   "cell_type": "markdown",
   "id": "f469f51d",
   "metadata": {},
   "source": [
    "### Handling Missing Values"
   ]
  },
  {
   "cell_type": "code",
   "execution_count": 38,
   "id": "91731c67",
   "metadata": {},
   "outputs": [
    {
     "data": {
      "text/plain": [
       "4223"
      ]
     },
     "execution_count": 38,
     "metadata": {},
     "output_type": "execute_result"
    }
   ],
   "source": [
    "df['Description'].nunique()"
   ]
  },
  {
   "cell_type": "code",
   "execution_count": 56,
   "id": "7780bb76",
   "metadata": {},
   "outputs": [
    {
     "data": {
      "text/plain": [
       "0.2683107311375157"
      ]
     },
     "execution_count": 56,
     "metadata": {},
     "output_type": "execute_result"
    }
   ],
   "source": [
    "df[\"Description\"].isnull().mean()*100"
   ]
  },
  {
   "cell_type": "markdown",
   "id": "93ec300e",
   "metadata": {},
   "source": [
    "we have 0.26 % of missing values in Description column"
   ]
  },
  {
   "cell_type": "code",
   "execution_count": 43,
   "id": "3f1ae7ba",
   "metadata": {},
   "outputs": [
    {
     "data": {
      "text/html": [
       "<div>\n",
       "<style scoped>\n",
       "    .dataframe tbody tr th:only-of-type {\n",
       "        vertical-align: middle;\n",
       "    }\n",
       "\n",
       "    .dataframe tbody tr th {\n",
       "        vertical-align: top;\n",
       "    }\n",
       "\n",
       "    .dataframe thead th {\n",
       "        text-align: right;\n",
       "    }\n",
       "</style>\n",
       "<table border=\"1\" class=\"dataframe\">\n",
       "  <thead>\n",
       "    <tr style=\"text-align: right;\">\n",
       "      <th></th>\n",
       "      <th>InvoiceNo</th>\n",
       "      <th>StockCode</th>\n",
       "      <th>Description</th>\n",
       "      <th>Quantity</th>\n",
       "      <th>InvoiceDate</th>\n",
       "      <th>UnitPrice</th>\n",
       "      <th>CustomerID</th>\n",
       "      <th>Country</th>\n",
       "    </tr>\n",
       "  </thead>\n",
       "  <tbody>\n",
       "    <tr>\n",
       "      <th>229336</th>\n",
       "      <td>557031</td>\n",
       "      <td>21447</td>\n",
       "      <td>NaN</td>\n",
       "      <td>-65</td>\n",
       "      <td>2011-06-16 13:31:00</td>\n",
       "      <td>0.0</td>\n",
       "      <td>NaN</td>\n",
       "      <td>United Kingdom</td>\n",
       "    </tr>\n",
       "    <tr>\n",
       "      <th>148116</th>\n",
       "      <td>549180</td>\n",
       "      <td>84522</td>\n",
       "      <td>NaN</td>\n",
       "      <td>-30</td>\n",
       "      <td>2011-06-04 17:34:00</td>\n",
       "      <td>0.0</td>\n",
       "      <td>NaN</td>\n",
       "      <td>United Kingdom</td>\n",
       "    </tr>\n",
       "    <tr>\n",
       "      <th>195795</th>\n",
       "      <td>553745</td>\n",
       "      <td>84760S</td>\n",
       "      <td>NaN</td>\n",
       "      <td>2</td>\n",
       "      <td>2011-05-19 09:46:00</td>\n",
       "      <td>0.0</td>\n",
       "      <td>NaN</td>\n",
       "      <td>United Kingdom</td>\n",
       "    </tr>\n",
       "    <tr>\n",
       "      <th>356449</th>\n",
       "      <td>568053</td>\n",
       "      <td>90209C</td>\n",
       "      <td>NaN</td>\n",
       "      <td>3</td>\n",
       "      <td>2011-09-23 12:44:00</td>\n",
       "      <td>0.0</td>\n",
       "      <td>NaN</td>\n",
       "      <td>United Kingdom</td>\n",
       "    </tr>\n",
       "    <tr>\n",
       "      <th>74283</th>\n",
       "      <td>542414</td>\n",
       "      <td>84967A</td>\n",
       "      <td>NaN</td>\n",
       "      <td>-2</td>\n",
       "      <td>2011-01-27 17:15:00</td>\n",
       "      <td>0.0</td>\n",
       "      <td>NaN</td>\n",
       "      <td>United Kingdom</td>\n",
       "    </tr>\n",
       "    <tr>\n",
       "      <th>228742</th>\n",
       "      <td>556952</td>\n",
       "      <td>21784</td>\n",
       "      <td>NaN</td>\n",
       "      <td>1</td>\n",
       "      <td>2011-06-15 16:57:00</td>\n",
       "      <td>0.0</td>\n",
       "      <td>NaN</td>\n",
       "      <td>United Kingdom</td>\n",
       "    </tr>\n",
       "    <tr>\n",
       "      <th>536981</th>\n",
       "      <td>581234</td>\n",
       "      <td>72817</td>\n",
       "      <td>NaN</td>\n",
       "      <td>27</td>\n",
       "      <td>2011-08-12 10:33:00</td>\n",
       "      <td>0.0</td>\n",
       "      <td>NaN</td>\n",
       "      <td>United Kingdom</td>\n",
       "    </tr>\n",
       "    <tr>\n",
       "      <th>175520</th>\n",
       "      <td>551965</td>\n",
       "      <td>21429</td>\n",
       "      <td>NaN</td>\n",
       "      <td>1</td>\n",
       "      <td>2011-05-05 13:13:00</td>\n",
       "      <td>0.0</td>\n",
       "      <td>NaN</td>\n",
       "      <td>United Kingdom</td>\n",
       "    </tr>\n",
       "    <tr>\n",
       "      <th>453999</th>\n",
       "      <td>575506</td>\n",
       "      <td>C2</td>\n",
       "      <td>NaN</td>\n",
       "      <td>150</td>\n",
       "      <td>2011-10-11 10:30:00</td>\n",
       "      <td>0.0</td>\n",
       "      <td>NaN</td>\n",
       "      <td>United Kingdom</td>\n",
       "    </tr>\n",
       "    <tr>\n",
       "      <th>108687</th>\n",
       "      <td>545565</td>\n",
       "      <td>47563B</td>\n",
       "      <td>NaN</td>\n",
       "      <td>-10</td>\n",
       "      <td>2011-03-03 16:14:00</td>\n",
       "      <td>0.0</td>\n",
       "      <td>NaN</td>\n",
       "      <td>United Kingdom</td>\n",
       "    </tr>\n",
       "  </tbody>\n",
       "</table>\n",
       "</div>"
      ],
      "text/plain": [
       "       InvoiceNo StockCode Description  Quantity         InvoiceDate  \\\n",
       "229336    557031     21447         NaN       -65 2011-06-16 13:31:00   \n",
       "148116    549180     84522         NaN       -30 2011-06-04 17:34:00   \n",
       "195795    553745    84760S         NaN         2 2011-05-19 09:46:00   \n",
       "356449    568053    90209C         NaN         3 2011-09-23 12:44:00   \n",
       "74283     542414    84967A         NaN        -2 2011-01-27 17:15:00   \n",
       "228742    556952     21784         NaN         1 2011-06-15 16:57:00   \n",
       "536981    581234     72817         NaN        27 2011-08-12 10:33:00   \n",
       "175520    551965     21429         NaN         1 2011-05-05 13:13:00   \n",
       "453999    575506        C2         NaN       150 2011-10-11 10:30:00   \n",
       "108687    545565    47563B         NaN       -10 2011-03-03 16:14:00   \n",
       "\n",
       "        UnitPrice  CustomerID         Country  \n",
       "229336        0.0         NaN  United Kingdom  \n",
       "148116        0.0         NaN  United Kingdom  \n",
       "195795        0.0         NaN  United Kingdom  \n",
       "356449        0.0         NaN  United Kingdom  \n",
       "74283         0.0         NaN  United Kingdom  \n",
       "228742        0.0         NaN  United Kingdom  \n",
       "536981        0.0         NaN  United Kingdom  \n",
       "175520        0.0         NaN  United Kingdom  \n",
       "453999        0.0         NaN  United Kingdom  \n",
       "108687        0.0         NaN  United Kingdom  "
      ]
     },
     "execution_count": 43,
     "metadata": {},
     "output_type": "execute_result"
    }
   ],
   "source": [
    "df[df['Description'].isnull()].sample(10)"
   ]
  },
  {
   "cell_type": "code",
   "execution_count": 45,
   "id": "66d83a46",
   "metadata": {},
   "outputs": [
    {
     "data": {
      "text/plain": [
       "True"
      ]
     },
     "execution_count": 45,
     "metadata": {},
     "output_type": "execute_result"
    }
   ],
   "source": [
    "np.all(df[df[\"Description\"].isnull()][\"CustomerID\"].isnull())"
   ]
  },
  {
   "cell_type": "code",
   "execution_count": 48,
   "id": "5d5d9473",
   "metadata": {},
   "outputs": [
    {
     "data": {
      "text/plain": [
       "59.28473177441541"
      ]
     },
     "execution_count": 48,
     "metadata": {},
     "output_type": "execute_result"
    }
   ],
   "source": [
    "(df[df[\"Description\"].isnull()][\"Quantity\"] <= 0).mean()*100"
   ]
  },
  {
   "cell_type": "code",
   "execution_count": 52,
   "id": "4b231496",
   "metadata": {},
   "outputs": [
    {
     "data": {
      "text/plain": [
       "True"
      ]
     },
     "execution_count": 52,
     "metadata": {},
     "output_type": "execute_result"
    }
   ],
   "source": [
    "all(df[df[\"Description\"].isnull()][\"Country\"]== \"United Kingdom\")"
   ]
  },
  {
   "cell_type": "code",
   "execution_count": 55,
   "id": "5e841866",
   "metadata": {},
   "outputs": [
    {
     "data": {
      "text/plain": [
       "True"
      ]
     },
     "execution_count": 55,
     "metadata": {},
     "output_type": "execute_result"
    }
   ],
   "source": [
    "all(df[df[\"Description\"].isnull()][\"UnitPrice\"] == 0.0)"
   ]
  },
  {
   "cell_type": "markdown",
   "id": "a99b3e6e",
   "metadata": {},
   "source": [
    "The above stats shows that the rows which has no Description also has no Customer ID,59% of the quantity values is Negative,the only country is United Kingdom and all the price values are zero."
   ]
  },
  {
   "cell_type": "markdown",
   "id": "1fbea4eb",
   "metadata": {},
   "source": [
    "------------------------"
   ]
  },
  {
   "cell_type": "code",
   "execution_count": 57,
   "id": "49afbb70",
   "metadata": {},
   "outputs": [
    {
     "data": {
      "text/plain": [
       "24.926694334288598"
      ]
     },
     "execution_count": 57,
     "metadata": {},
     "output_type": "execute_result"
    }
   ],
   "source": [
    "df[\"CustomerID\"].isnull().mean()*100"
   ]
  },
  {
   "cell_type": "markdown",
   "id": "b932a280",
   "metadata": {},
   "source": [
    "We have 24% of missing values in Customer ID."
   ]
  },
  {
   "cell_type": "code",
   "execution_count": 58,
   "id": "2a2ad7d2",
   "metadata": {},
   "outputs": [
    {
     "data": {
      "text/plain": [
       "3554"
      ]
     },
     "execution_count": 58,
     "metadata": {},
     "output_type": "execute_result"
    }
   ],
   "source": [
    "df[df[\"CustomerID\"].isnull()][\"Description\"].nunique()"
   ]
  },
  {
   "cell_type": "code",
   "execution_count": 64,
   "id": "d2435ca4",
   "metadata": {},
   "outputs": [
    {
     "data": {
      "text/plain": [
       "1.272579212318626"
      ]
     },
     "execution_count": 64,
     "metadata": {},
     "output_type": "execute_result"
    }
   ],
   "source": [
    "(df[df[\"CustomerID\"].isnull()]['Quantity'] < 0).mean() * 100"
   ]
  },
  {
   "cell_type": "code",
   "execution_count": 65,
   "id": "da72218c",
   "metadata": {},
   "outputs": [
    {
     "data": {
      "text/plain": [
       "1.8337281610897247"
      ]
     },
     "execution_count": 65,
     "metadata": {},
     "output_type": "execute_result"
    }
   ],
   "source": [
    "(df[df[\"CustomerID\"].isnull()]['UnitPrice'] <= 0).mean() * 100"
   ]
  },
  {
   "cell_type": "markdown",
   "id": "8e125498",
   "metadata": {},
   "source": [
    "We have no clear idea about why there is lot of missing values in customer ID.May be the unregistered people have no customer ID."
   ]
  },
  {
   "cell_type": "markdown",
   "id": "7f99860a",
   "metadata": {},
   "source": [
    "----"
   ]
  },
  {
   "cell_type": "markdown",
   "id": "8e028417",
   "metadata": {},
   "source": [
    "#### Negative Quantity and zero Unit Price"
   ]
  },
  {
   "cell_type": "code",
   "execution_count": 69,
   "id": "5f42795e",
   "metadata": {},
   "outputs": [
    {
     "data": {
      "text/plain": [
       "1.9604767590130447"
      ]
     },
     "execution_count": 69,
     "metadata": {},
     "output_type": "execute_result"
    }
   ],
   "source": [
    "(df[\"Quantity\"] <=0 ).mean()*100"
   ]
  },
  {
   "cell_type": "code",
   "execution_count": 77,
   "id": "5dd5668f",
   "metadata": {},
   "outputs": [
    {
     "data": {
      "text/plain": [
       "0.46446912673530055"
      ]
     },
     "execution_count": 77,
     "metadata": {},
     "output_type": "execute_result"
    }
   ],
   "source": [
    "(df[\"UnitPrice\"] <=0 ).mean()*100"
   ]
  },
  {
   "cell_type": "markdown",
   "id": "cd8a60dd",
   "metadata": {},
   "source": [
    "2% and 0.4% of quantity and UnitPrice has neagative values in the dataset respectively ."
   ]
  },
  {
   "cell_type": "code",
   "execution_count": 78,
   "id": "544b03e6",
   "metadata": {},
   "outputs": [
    {
     "data": {
      "text/html": [
       "<div>\n",
       "<style scoped>\n",
       "    .dataframe tbody tr th:only-of-type {\n",
       "        vertical-align: middle;\n",
       "    }\n",
       "\n",
       "    .dataframe tbody tr th {\n",
       "        vertical-align: top;\n",
       "    }\n",
       "\n",
       "    .dataframe thead th {\n",
       "        text-align: right;\n",
       "    }\n",
       "</style>\n",
       "<table border=\"1\" class=\"dataframe\">\n",
       "  <thead>\n",
       "    <tr style=\"text-align: right;\">\n",
       "      <th></th>\n",
       "      <th>InvoiceNo</th>\n",
       "      <th>StockCode</th>\n",
       "      <th>Description</th>\n",
       "      <th>Quantity</th>\n",
       "      <th>InvoiceDate</th>\n",
       "      <th>UnitPrice</th>\n",
       "      <th>CustomerID</th>\n",
       "      <th>Country</th>\n",
       "    </tr>\n",
       "  </thead>\n",
       "  <tbody>\n",
       "    <tr>\n",
       "      <th>73936</th>\n",
       "      <td>C542395</td>\n",
       "      <td>85126</td>\n",
       "      <td>LARGE ROUND CUTGLASS CANDLESTICK</td>\n",
       "      <td>-1</td>\n",
       "      <td>2011-01-27 15:12:00</td>\n",
       "      <td>6.75</td>\n",
       "      <td>17389.0</td>\n",
       "      <td>United Kingdom</td>\n",
       "    </tr>\n",
       "    <tr>\n",
       "      <th>461406</th>\n",
       "      <td>C575940</td>\n",
       "      <td>84991</td>\n",
       "      <td>60 TEATIME FAIRY CAKE CASES</td>\n",
       "      <td>-24</td>\n",
       "      <td>2011-11-13 11:38:00</td>\n",
       "      <td>0.55</td>\n",
       "      <td>17838.0</td>\n",
       "      <td>United Kingdom</td>\n",
       "    </tr>\n",
       "    <tr>\n",
       "      <th>341561</th>\n",
       "      <td>C566758</td>\n",
       "      <td>23174</td>\n",
       "      <td>REGENCY SUGAR BOWL GREEN</td>\n",
       "      <td>-1</td>\n",
       "      <td>2011-09-14 16:05:00</td>\n",
       "      <td>4.15</td>\n",
       "      <td>14292.0</td>\n",
       "      <td>United Kingdom</td>\n",
       "    </tr>\n",
       "    <tr>\n",
       "      <th>297905</th>\n",
       "      <td>C562956</td>\n",
       "      <td>22637</td>\n",
       "      <td>PIGGY BANK RETROSPOT</td>\n",
       "      <td>-1</td>\n",
       "      <td>2011-11-08 10:14:00</td>\n",
       "      <td>2.55</td>\n",
       "      <td>13186.0</td>\n",
       "      <td>United Kingdom</td>\n",
       "    </tr>\n",
       "    <tr>\n",
       "      <th>279133</th>\n",
       "      <td>C561239</td>\n",
       "      <td>84755</td>\n",
       "      <td>COLOUR GLASS T-LIGHT HOLDER HANGING</td>\n",
       "      <td>-4</td>\n",
       "      <td>2011-07-26 10:32:00</td>\n",
       "      <td>0.65</td>\n",
       "      <td>NaN</td>\n",
       "      <td>EIRE</td>\n",
       "    </tr>\n",
       "    <tr>\n",
       "      <th>235958</th>\n",
       "      <td>C557664</td>\n",
       "      <td>22847</td>\n",
       "      <td>BREAD BIN DINER STYLE IVORY</td>\n",
       "      <td>-1</td>\n",
       "      <td>2011-06-21 18:00:00</td>\n",
       "      <td>14.95</td>\n",
       "      <td>NaN</td>\n",
       "      <td>EIRE</td>\n",
       "    </tr>\n",
       "    <tr>\n",
       "      <th>313461</th>\n",
       "      <td>C564498</td>\n",
       "      <td>BANK CHARGES</td>\n",
       "      <td>Bank Charges</td>\n",
       "      <td>-1</td>\n",
       "      <td>2011-08-25 14:22:00</td>\n",
       "      <td>77.63</td>\n",
       "      <td>NaN</td>\n",
       "      <td>United Kingdom</td>\n",
       "    </tr>\n",
       "    <tr>\n",
       "      <th>211305</th>\n",
       "      <td>C555360</td>\n",
       "      <td>23168</td>\n",
       "      <td>CLASSIC CAFE SUGAR DISPENSER</td>\n",
       "      <td>-5</td>\n",
       "      <td>2011-02-06 14:06:00</td>\n",
       "      <td>1.25</td>\n",
       "      <td>16133.0</td>\n",
       "      <td>United Kingdom</td>\n",
       "    </tr>\n",
       "    <tr>\n",
       "      <th>171985</th>\n",
       "      <td>C551511</td>\n",
       "      <td>84818</td>\n",
       "      <td>DANISH ROSE PHOTO FRAME</td>\n",
       "      <td>-6</td>\n",
       "      <td>2011-04-28 19:49:00</td>\n",
       "      <td>2.55</td>\n",
       "      <td>14311.0</td>\n",
       "      <td>United Kingdom</td>\n",
       "    </tr>\n",
       "    <tr>\n",
       "      <th>202229</th>\n",
       "      <td>C554373</td>\n",
       "      <td>22371</td>\n",
       "      <td>AIRLINE BAG VINTAGE TOKYO 78</td>\n",
       "      <td>-2</td>\n",
       "      <td>2011-05-24 11:23:00</td>\n",
       "      <td>3.75</td>\n",
       "      <td>16998.0</td>\n",
       "      <td>United Kingdom</td>\n",
       "    </tr>\n",
       "  </tbody>\n",
       "</table>\n",
       "</div>"
      ],
      "text/plain": [
       "       InvoiceNo     StockCode                          Description  Quantity  \\\n",
       "73936    C542395         85126     LARGE ROUND CUTGLASS CANDLESTICK        -1   \n",
       "461406   C575940         84991          60 TEATIME FAIRY CAKE CASES       -24   \n",
       "341561   C566758         23174             REGENCY SUGAR BOWL GREEN        -1   \n",
       "297905   C562956         22637                PIGGY BANK RETROSPOT         -1   \n",
       "279133   C561239         84755  COLOUR GLASS T-LIGHT HOLDER HANGING        -4   \n",
       "235958   C557664         22847          BREAD BIN DINER STYLE IVORY        -1   \n",
       "313461   C564498  BANK CHARGES                         Bank Charges        -1   \n",
       "211305   C555360         23168         CLASSIC CAFE SUGAR DISPENSER        -5   \n",
       "171985   C551511         84818              DANISH ROSE PHOTO FRAME        -6   \n",
       "202229   C554373         22371         AIRLINE BAG VINTAGE TOKYO 78        -2   \n",
       "\n",
       "               InvoiceDate  UnitPrice  CustomerID         Country  \n",
       "73936  2011-01-27 15:12:00       6.75     17389.0  United Kingdom  \n",
       "461406 2011-11-13 11:38:00       0.55     17838.0  United Kingdom  \n",
       "341561 2011-09-14 16:05:00       4.15     14292.0  United Kingdom  \n",
       "297905 2011-11-08 10:14:00       2.55     13186.0  United Kingdom  \n",
       "279133 2011-07-26 10:32:00       0.65         NaN            EIRE  \n",
       "235958 2011-06-21 18:00:00      14.95         NaN            EIRE  \n",
       "313461 2011-08-25 14:22:00      77.63         NaN  United Kingdom  \n",
       "211305 2011-02-06 14:06:00       1.25     16133.0  United Kingdom  \n",
       "171985 2011-04-28 19:49:00       2.55     14311.0  United Kingdom  \n",
       "202229 2011-05-24 11:23:00       3.75     16998.0  United Kingdom  "
      ]
     },
     "execution_count": 78,
     "metadata": {},
     "output_type": "execute_result"
    }
   ],
   "source": [
    "df[df[\"Quantity\"] <= 0].sample(10)"
   ]
  },
  {
   "cell_type": "markdown",
   "id": "a6bb7e0e",
   "metadata": {},
   "source": [
    "According to Data description, the letter 'C' infront of InvoiceNo represents cancelled order ."
   ]
  },
  {
   "cell_type": "code",
   "execution_count": 82,
   "id": "0453561c",
   "metadata": {},
   "outputs": [
    {
     "data": {
      "text/plain": [
       "87.42469879518072"
      ]
     },
     "execution_count": 82,
     "metadata": {},
     "output_type": "execute_result"
    }
   ],
   "source": [
    "df[df[\"Quantity\"] <= 0][\"InvoiceNo\"].astype(str).str.startswith(\"C\").mean()*100"
   ]
  },
  {
   "cell_type": "code",
   "execution_count": 85,
   "id": "3f7540d2",
   "metadata": {},
   "outputs": [
    {
     "data": {
      "text/plain": [
       "100.0"
      ]
     },
     "execution_count": 85,
     "metadata": {},
     "output_type": "execute_result"
    }
   ],
   "source": [
    "(df[df[\"InvoiceNo\"].astype(\"str\").str.startswith(\"C\")][\"Quantity\"]<=0).mean()*100"
   ]
  },
  {
   "cell_type": "code",
   "execution_count": 89,
   "id": "23292e9f",
   "metadata": {},
   "outputs": [],
   "source": [
    "df[\"TotalPrice\"] = df[\"Quantity\"] * df[\"UnitPrice\"]"
   ]
  },
  {
   "cell_type": "code",
   "execution_count": 94,
   "id": "190dca7f",
   "metadata": {},
   "outputs": [
    {
     "data": {
      "text/plain": [
       "2.178410028251976"
      ]
     },
     "execution_count": 94,
     "metadata": {},
     "output_type": "execute_result"
    }
   ],
   "source": [
    "(df[\"TotalPrice\"]<=0).mean()*100"
   ]
  },
  {
   "cell_type": "markdown",
   "id": "6a6ac0d6",
   "metadata": {},
   "source": [
    "-----"
   ]
  },
  {
   "cell_type": "markdown",
   "id": "fe83447c",
   "metadata": {},
   "source": [
    "##### Dropping of cancelled orders"
   ]
  },
  {
   "cell_type": "code",
   "execution_count": 147,
   "id": "c465c643",
   "metadata": {},
   "outputs": [
    {
     "data": {
      "text/html": [
       "<div>\n",
       "<style scoped>\n",
       "    .dataframe tbody tr th:only-of-type {\n",
       "        vertical-align: middle;\n",
       "    }\n",
       "\n",
       "    .dataframe tbody tr th {\n",
       "        vertical-align: top;\n",
       "    }\n",
       "\n",
       "    .dataframe thead th {\n",
       "        text-align: right;\n",
       "    }\n",
       "</style>\n",
       "<table border=\"1\" class=\"dataframe\">\n",
       "  <thead>\n",
       "    <tr style=\"text-align: right;\">\n",
       "      <th></th>\n",
       "      <th>InvoiceNo</th>\n",
       "      <th>StockCode</th>\n",
       "      <th>Description</th>\n",
       "      <th>Quantity</th>\n",
       "      <th>InvoiceDate</th>\n",
       "      <th>UnitPrice</th>\n",
       "      <th>CustomerID</th>\n",
       "      <th>Country</th>\n",
       "      <th>month</th>\n",
       "      <th>year</th>\n",
       "      <th>month_year</th>\n",
       "      <th>TotalPrice</th>\n",
       "    </tr>\n",
       "  </thead>\n",
       "  <tbody>\n",
       "    <tr>\n",
       "      <th>141</th>\n",
       "      <td>C536379</td>\n",
       "      <td>D</td>\n",
       "      <td>Discount</td>\n",
       "      <td>-1</td>\n",
       "      <td>2010-01-12 09:41:00</td>\n",
       "      <td>27.50</td>\n",
       "      <td>14527.0</td>\n",
       "      <td>United Kingdom</td>\n",
       "      <td>1</td>\n",
       "      <td>2010</td>\n",
       "      <td>2010-01-01</td>\n",
       "      <td>-27.50</td>\n",
       "    </tr>\n",
       "    <tr>\n",
       "      <th>154</th>\n",
       "      <td>C536383</td>\n",
       "      <td>35004C</td>\n",
       "      <td>SET OF 3 COLOURED  FLYING DUCKS</td>\n",
       "      <td>-1</td>\n",
       "      <td>2010-01-12 09:49:00</td>\n",
       "      <td>4.65</td>\n",
       "      <td>15311.0</td>\n",
       "      <td>United Kingdom</td>\n",
       "      <td>1</td>\n",
       "      <td>2010</td>\n",
       "      <td>2010-01-01</td>\n",
       "      <td>-4.65</td>\n",
       "    </tr>\n",
       "    <tr>\n",
       "      <th>235</th>\n",
       "      <td>C536391</td>\n",
       "      <td>22556</td>\n",
       "      <td>PLASTERS IN TIN CIRCUS PARADE</td>\n",
       "      <td>-12</td>\n",
       "      <td>2010-01-12 10:24:00</td>\n",
       "      <td>1.65</td>\n",
       "      <td>17548.0</td>\n",
       "      <td>United Kingdom</td>\n",
       "      <td>1</td>\n",
       "      <td>2010</td>\n",
       "      <td>2010-01-01</td>\n",
       "      <td>-19.80</td>\n",
       "    </tr>\n",
       "    <tr>\n",
       "      <th>236</th>\n",
       "      <td>C536391</td>\n",
       "      <td>21984</td>\n",
       "      <td>PACK OF 12 PINK PAISLEY TISSUES</td>\n",
       "      <td>-24</td>\n",
       "      <td>2010-01-12 10:24:00</td>\n",
       "      <td>0.29</td>\n",
       "      <td>17548.0</td>\n",
       "      <td>United Kingdom</td>\n",
       "      <td>1</td>\n",
       "      <td>2010</td>\n",
       "      <td>2010-01-01</td>\n",
       "      <td>-6.96</td>\n",
       "    </tr>\n",
       "    <tr>\n",
       "      <th>237</th>\n",
       "      <td>C536391</td>\n",
       "      <td>21983</td>\n",
       "      <td>PACK OF 12 BLUE PAISLEY TISSUES</td>\n",
       "      <td>-24</td>\n",
       "      <td>2010-01-12 10:24:00</td>\n",
       "      <td>0.29</td>\n",
       "      <td>17548.0</td>\n",
       "      <td>United Kingdom</td>\n",
       "      <td>1</td>\n",
       "      <td>2010</td>\n",
       "      <td>2010-01-01</td>\n",
       "      <td>-6.96</td>\n",
       "    </tr>\n",
       "    <tr>\n",
       "      <th>...</th>\n",
       "      <td>...</td>\n",
       "      <td>...</td>\n",
       "      <td>...</td>\n",
       "      <td>...</td>\n",
       "      <td>...</td>\n",
       "      <td>...</td>\n",
       "      <td>...</td>\n",
       "      <td>...</td>\n",
       "      <td>...</td>\n",
       "      <td>...</td>\n",
       "      <td>...</td>\n",
       "      <td>...</td>\n",
       "    </tr>\n",
       "    <tr>\n",
       "      <th>540449</th>\n",
       "      <td>C581490</td>\n",
       "      <td>23144</td>\n",
       "      <td>ZINC T-LIGHT HOLDER STARS SMALL</td>\n",
       "      <td>-11</td>\n",
       "      <td>2011-09-12 09:57:00</td>\n",
       "      <td>0.83</td>\n",
       "      <td>14397.0</td>\n",
       "      <td>United Kingdom</td>\n",
       "      <td>9</td>\n",
       "      <td>2011</td>\n",
       "      <td>2011-09-01</td>\n",
       "      <td>-9.13</td>\n",
       "    </tr>\n",
       "    <tr>\n",
       "      <th>541541</th>\n",
       "      <td>C581499</td>\n",
       "      <td>M</td>\n",
       "      <td>Manual</td>\n",
       "      <td>-1</td>\n",
       "      <td>2011-09-12 10:28:00</td>\n",
       "      <td>224.69</td>\n",
       "      <td>15498.0</td>\n",
       "      <td>United Kingdom</td>\n",
       "      <td>9</td>\n",
       "      <td>2011</td>\n",
       "      <td>2011-09-01</td>\n",
       "      <td>-224.69</td>\n",
       "    </tr>\n",
       "    <tr>\n",
       "      <th>541715</th>\n",
       "      <td>C581568</td>\n",
       "      <td>21258</td>\n",
       "      <td>VICTORIAN SEWING BOX LARGE</td>\n",
       "      <td>-5</td>\n",
       "      <td>2011-09-12 11:57:00</td>\n",
       "      <td>10.95</td>\n",
       "      <td>15311.0</td>\n",
       "      <td>United Kingdom</td>\n",
       "      <td>9</td>\n",
       "      <td>2011</td>\n",
       "      <td>2011-09-01</td>\n",
       "      <td>-54.75</td>\n",
       "    </tr>\n",
       "    <tr>\n",
       "      <th>541716</th>\n",
       "      <td>C581569</td>\n",
       "      <td>84978</td>\n",
       "      <td>HANGING HEART JAR T-LIGHT HOLDER</td>\n",
       "      <td>-1</td>\n",
       "      <td>2011-09-12 11:58:00</td>\n",
       "      <td>1.25</td>\n",
       "      <td>17315.0</td>\n",
       "      <td>United Kingdom</td>\n",
       "      <td>9</td>\n",
       "      <td>2011</td>\n",
       "      <td>2011-09-01</td>\n",
       "      <td>-1.25</td>\n",
       "    </tr>\n",
       "    <tr>\n",
       "      <th>541717</th>\n",
       "      <td>C581569</td>\n",
       "      <td>20979</td>\n",
       "      <td>36 PENCILS TUBE RED RETROSPOT</td>\n",
       "      <td>-5</td>\n",
       "      <td>2011-09-12 11:58:00</td>\n",
       "      <td>1.25</td>\n",
       "      <td>17315.0</td>\n",
       "      <td>United Kingdom</td>\n",
       "      <td>9</td>\n",
       "      <td>2011</td>\n",
       "      <td>2011-09-01</td>\n",
       "      <td>-6.25</td>\n",
       "    </tr>\n",
       "  </tbody>\n",
       "</table>\n",
       "<p>9288 rows × 12 columns</p>\n",
       "</div>"
      ],
      "text/plain": [
       "       InvoiceNo StockCode                       Description  Quantity  \\\n",
       "141      C536379         D                          Discount        -1   \n",
       "154      C536383    35004C   SET OF 3 COLOURED  FLYING DUCKS        -1   \n",
       "235      C536391     22556    PLASTERS IN TIN CIRCUS PARADE        -12   \n",
       "236      C536391     21984  PACK OF 12 PINK PAISLEY TISSUES        -24   \n",
       "237      C536391     21983  PACK OF 12 BLUE PAISLEY TISSUES        -24   \n",
       "...          ...       ...                               ...       ...   \n",
       "540449   C581490     23144   ZINC T-LIGHT HOLDER STARS SMALL       -11   \n",
       "541541   C581499         M                            Manual        -1   \n",
       "541715   C581568     21258        VICTORIAN SEWING BOX LARGE        -5   \n",
       "541716   C581569     84978  HANGING HEART JAR T-LIGHT HOLDER        -1   \n",
       "541717   C581569     20979     36 PENCILS TUBE RED RETROSPOT        -5   \n",
       "\n",
       "               InvoiceDate  UnitPrice  CustomerID         Country  month  \\\n",
       "141    2010-01-12 09:41:00      27.50     14527.0  United Kingdom      1   \n",
       "154    2010-01-12 09:49:00       4.65     15311.0  United Kingdom      1   \n",
       "235    2010-01-12 10:24:00       1.65     17548.0  United Kingdom      1   \n",
       "236    2010-01-12 10:24:00       0.29     17548.0  United Kingdom      1   \n",
       "237    2010-01-12 10:24:00       0.29     17548.0  United Kingdom      1   \n",
       "...                    ...        ...         ...             ...    ...   \n",
       "540449 2011-09-12 09:57:00       0.83     14397.0  United Kingdom      9   \n",
       "541541 2011-09-12 10:28:00     224.69     15498.0  United Kingdom      9   \n",
       "541715 2011-09-12 11:57:00      10.95     15311.0  United Kingdom      9   \n",
       "541716 2011-09-12 11:58:00       1.25     17315.0  United Kingdom      9   \n",
       "541717 2011-09-12 11:58:00       1.25     17315.0  United Kingdom      9   \n",
       "\n",
       "        year month_year  TotalPrice  \n",
       "141     2010 2010-01-01      -27.50  \n",
       "154     2010 2010-01-01       -4.65  \n",
       "235     2010 2010-01-01      -19.80  \n",
       "236     2010 2010-01-01       -6.96  \n",
       "237     2010 2010-01-01       -6.96  \n",
       "...      ...        ...         ...  \n",
       "540449  2011 2011-09-01       -9.13  \n",
       "541541  2011 2011-09-01     -224.69  \n",
       "541715  2011 2011-09-01      -54.75  \n",
       "541716  2011 2011-09-01       -1.25  \n",
       "541717  2011 2011-09-01       -6.25  \n",
       "\n",
       "[9288 rows x 12 columns]"
      ]
     },
     "execution_count": 147,
     "metadata": {},
     "output_type": "execute_result"
    }
   ],
   "source": [
    "cancelled_orders =df[df[\"InvoiceNo\"].astype(str).str.startswith(\"C\")]\n",
    "cancelled_orders"
   ]
  },
  {
   "cell_type": "code",
   "execution_count": 150,
   "id": "ea6ab381",
   "metadata": {},
   "outputs": [
    {
     "data": {
      "text/plain": [
       "9288"
      ]
     },
     "execution_count": 150,
     "metadata": {},
     "output_type": "execute_result"
    }
   ],
   "source": [
    "len(cancelled_orders)"
   ]
  },
  {
   "cell_type": "code",
   "execution_count": 154,
   "id": "5f21a696",
   "metadata": {},
   "outputs": [],
   "source": [
    "df = df[~df[\"InvoiceNo\"].astype(str).str.startswith(\"C\")]"
   ]
  },
  {
   "cell_type": "code",
   "execution_count": 156,
   "id": "bf6976d2",
   "metadata": {},
   "outputs": [
    {
     "data": {
      "text/plain": [
       "(532621, 12)"
      ]
     },
     "execution_count": 156,
     "metadata": {},
     "output_type": "execute_result"
    }
   ],
   "source": [
    "df.shape"
   ]
  },
  {
   "cell_type": "markdown",
   "id": "138a80c4",
   "metadata": {},
   "source": [
    "----"
   ]
  },
  {
   "cell_type": "markdown",
   "id": "6488139f",
   "metadata": {},
   "source": [
    "Lets consider the values which dont have customerID as unknown customers.\n",
    "The scatter plot shows the buying tendency of customers who has customerID and without customerID."
   ]
  },
  {
   "cell_type": "code",
   "execution_count": 160,
   "id": "03bf690d",
   "metadata": {},
   "outputs": [],
   "source": [
    "df_inv = df.dropna().groupby(\"InvoiceNo\").agg({\"TotalPrice\": \"sum\", \"Quantity\":\"sum\"})\n",
    "df_inv_na = df[df[\"CustomerID\"].isnull()].groupby(\"InvoiceNo\").agg({\"TotalPrice\": \"sum\", \"Quantity\":\"sum\"})"
   ]
  },
  {
   "cell_type": "code",
   "execution_count": 161,
   "id": "16409713",
   "metadata": {},
   "outputs": [
    {
     "data": {
      "image/png": "[encoded data removed]",
      "text/plain": [
       "<Figure size 640x480 with 1 Axes>"
      ]
     },
     "metadata": {},
     "output_type": "display_data"
    }
   ],
   "source": [
    "ax = df_inv.plot(kind=\"scatter\", x=\"Quantity\", y=\"TotalPrice\", alpha=0.8, label=\"known customers\")\n",
    "df_inv_na.plot(kind=\"scatter\", x=\"Quantity\", y=\"TotalPrice\", ax=ax, color=\"crimson\", alpha=0.8, label=\"Unknown customers\")\n",
    "ax.set_ylim(-100, 30000)\n",
    "ax.set_xlim(-100, 20000)\n",
    "ax.set_ylabel(\"Total price payed per transaction\")\n",
    "ax.set_xlabel(\"Total number of items ordered per transaction\")\n",
    "_ = ax.legend()"
   ]
  },
  {
   "cell_type": "markdown",
   "id": "b195e1dc",
   "metadata": {},
   "source": [
    "The scatter plot shows that the known customers bought more items per transcaction compared to the unknown customers.\n",
    "But the unknown customers bought costlier items than known customers"
   ]
  },
  {
   "cell_type": "code",
   "execution_count": null,
   "id": "dcbdb27c",
   "metadata": {},
   "outputs": [],
   "source": []
  }
 ],
 "metadata": {
  "kernelspec": {
   "display_name": "Python 3 (ipykernel)",
   "language": "python",
   "name": "python3"
  },
  "language_info": {
   "codemirror_mode": {
    "name": "ipython",
    "version": 3
   },
   "file_extension": ".py",
   "mimetype": "text/x-python",
   "name": "python",
   "nbconvert_exporter": "python",
   "pygments_lexer": "ipython3",
   "version": "3.10.9"
  }
 },
 "nbformat": 4,
 "nbformat_minor": 5
}
